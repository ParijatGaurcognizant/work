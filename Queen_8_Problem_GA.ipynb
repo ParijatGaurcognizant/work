{
 "cells": [
  {
   "cell_type": "code",
   "execution_count": 5,
   "metadata": {},
   "outputs": [],
   "source": [
    "import random\n",
    "import numpy as np\n",
    "from numpy.random import choice\n",
    "import pandas as pd\n",
    "\n",
    "\n",
    "\n",
    "mutationRate = 0.01\n",
    "totalPopulation = 150\n",
    "crossOver = 0.5\n"
   ]
  },
  {
   "cell_type": "code",
   "execution_count": 6,
   "metadata": {},
   "outputs": [],
   "source": [
    "#Creating initial population\n",
    "\n",
    "target = [4,0,3,5,7,1,6,2]\n",
    "alpha_list = [x for x in range(0, 8)] \n",
    "\n",
    "\n",
    "# code to create initial population\n",
    "populationData = []\n",
    "fitnessData = []\n",
    "secure_random = random.SystemRandom()\n",
    "for outloop in range(totalPopulation):\n",
    "  randomData = []\n",
    "  fitnessScore = 0\n",
    "  for inloop in range(len(target)):\n",
    "    selectedData = secure_random.choice(alpha_list)\n",
    "    if (selectedData == target[inloop]):\n",
    "      fitnessScore = fitnessScore + 1\n",
    "    randomData.append(selectedData)\n",
    "  populationData.append(randomData)\n",
    "  fitnessData.append(fitnessScore)\n",
    "probabilityDist = []\n",
    "for outloop in range(totalPopulation):\n",
    "  probabilityDist.append(fitnessData[outloop]/len(target))\n",
    "probDataFrame = pd.DataFrame({'String':populationData,'FitnessScore':fitnessData,'Probability':probabilityDist})\n",
    "probDataFrame = probDataFrame.sort_values(['Probability'],ascending=False)\n",
    "probDataFrame = probDataFrame.reset_index(drop=True)\n"
   ]
  },
  {
   "cell_type": "code",
   "execution_count": 7,
   "metadata": {},
   "outputs": [],
   "source": [
    "# Custom functions to check fitness and change the look of the result\n",
    "\n",
    "def getFitnessScore(data):\n",
    "#    data = ''.join([elem for elem in data])\n",
    "    fitnessScore = 0\n",
    "    for inloop in range(len(target)):\n",
    "      if (data[inloop] == target[inloop]):\n",
    "        fitnessScore = fitnessScore + 1\n",
    "    return fitnessScore\n",
    "\n",
    "\n",
    "def change(list1):\n",
    "    s = [str(i) for i in list1] \n",
    "    str1 = \" \" \n",
    "    # return string   \n",
    "    return (str1.join(s)) \n"
   ]
  },
  {
   "cell_type": "code",
   "execution_count": 8,
   "metadata": {},
   "outputs": [
    {
     "name": "stdout",
     "output_type": "stream",
     "text": [
      "Generation  77    Result 4 0 3 5 7 1 6 2\n"
     ]
    }
   ],
   "source": [
    "\n",
    "# code to create child and mutation \n",
    "crossOverPoint = int(crossOver*len(target))\n",
    "generationCount = 1000\n",
    "for loop in range(generationCount):\n",
    "  draw=[]\n",
    "  draw.append(probDataFrame[0:1][\"String\"].values[0])\n",
    "  draw.append(probDataFrame[1:2][\"String\"].values[0])\n",
    "  #print('Fitness Scores of Parents ',getFitnessScore(draw[0]),getFitnessScore(draw[1]))\n",
    "  if (getFitnessScore(draw[0])==len(target) | getFitnessScore(draw[1])==len(target)):\n",
    "    print('Generation ',loop,'  ',\"Result\",change(draw[0]))\n",
    "    break\n",
    "  child1 = draw[0][0:crossOverPoint]+draw[1][crossOverPoint:]\n",
    "  child2 = draw[1][0:crossOverPoint]+draw[0][crossOverPoint:]\n",
    "  child1[random.randint(0,len(target)-1)] = secure_random.choice(alpha_list)\n",
    "  child2[random.randint(0,len(target)-1)] = secure_random.choice(alpha_list)\n",
    "  populationData.append(child1)\n",
    "  populationData.append(child2)\n",
    "  fitnessData = []\n",
    "  totalPopulation = len(populationData)\n",
    "  for outloop in range(totalPopulation):\n",
    "    fitnessScore = getFitnessScore(populationData[outloop])\n",
    "    fitnessData.append(fitnessScore)\n",
    "  probabilityDist = []\n",
    "  for outloop in range(totalPopulation):\n",
    "    probabilityDist.append(fitnessData[outloop]/sum(fitnessData))\n",
    "  probDataFrame = pd.DataFrame({'String':populationData,'FitnessScore':fitnessData,'Probability':probabilityDist})\n",
    "  probDataFrame = probDataFrame.sort_values(['Probability'],ascending=False)\n",
    "  probDataFrame = probDataFrame.reset_index(drop=True)\n"
   ]
  },
  {
   "cell_type": "code",
   "execution_count": null,
   "metadata": {},
   "outputs": [],
   "source": []
  }
 ],
 "metadata": {
  "kernelspec": {
   "display_name": "Python 3",
   "language": "python",
   "name": "python3"
  },
  "language_info": {
   "codemirror_mode": {
    "name": "ipython",
    "version": 3
   },
   "file_extension": ".py",
   "mimetype": "text/x-python",
   "name": "python",
   "nbconvert_exporter": "python",
   "pygments_lexer": "ipython3",
   "version": "3.7.7"
  }
 },
 "nbformat": 4,
 "nbformat_minor": 2
}
