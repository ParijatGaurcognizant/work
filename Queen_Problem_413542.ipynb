{
 "cells": [
  {
   "cell_type": "code",
   "execution_count": 1,
   "metadata": {},
   "outputs": [],
   "source": [
    "\n",
    "import numpy as np  \n",
    "\n",
    "choice = [1,2,3,4,5,6,7,8]  # choosing from the list the next Queen's position\n",
    "    \n",
    "def is_diagonal(x1,y1,x2,y2):\n",
    "    gradient = (y2-y1)/(x2-x1)\n",
    "    if gradient == -1 or gradient == 1:\n",
    "        return(True)\n",
    "    else:\n",
    "        return(False)\n",
    "\n",
    "    "
   ]
  },
  {
   "cell_type": "code",
   "execution_count": 2,
   "metadata": {},
   "outputs": [
    {
     "name": "stdout",
     "output_type": "stream",
     "text": [
      "Sequence of the Queen for each row %n  [6, 3, 5, 8, 1, 4, 2, 7]\n"
     ]
    }
   ],
   "source": [
    "\n",
    "count = 0\n",
    "Sequence = []\n",
    "while len(Sequence) < 8:\n",
    "    if len(Sequence) == 0 or count >= 15:\n",
    "        Sequence = []\n",
    "        seed = np.random.randint(1,9)\n",
    "        Sequence.append(seed)   \n",
    "        count = 0\n",
    "    nex = 0    \n",
    "    while nex < 1:\n",
    "        count += 1\n",
    "        pop = np.random.choice([ele for ele in choice if ele not in (Sequence) ]) \n",
    "#       print(\"pop candidate is \",pop, \" and count is :\", count)\n",
    "        for i in range(0,len(Sequence)):\n",
    "            if is_diagonal(i+1,Sequence[i],len(Sequence)+1,pop):\n",
    "                nex = 0\n",
    "                break\n",
    "            else: \n",
    "                nex = 1\n",
    "        if count > 15:\n",
    "#           print(\"Count is Greater than 10 now \")\n",
    "            break        \n",
    "    if nex == 1 :\n",
    "        Sequence.append(pop)\n",
    "print(\"Sequence of the Queen for each row %n \", Sequence)        \n"
   ]
  },
  {
   "cell_type": "code",
   "execution_count": null,
   "metadata": {},
   "outputs": [],
   "source": []
  }
 ],
 "metadata": {
  "kernelspec": {
   "display_name": "Python 3",
   "language": "python",
   "name": "python3"
  },
  "language_info": {
   "codemirror_mode": {
    "name": "ipython",
    "version": 3
   },
   "file_extension": ".py",
   "mimetype": "text/x-python",
   "name": "python",
   "nbconvert_exporter": "python",
   "pygments_lexer": "ipython3",
   "version": "3.7.7"
  }
 },
 "nbformat": 4,
 "nbformat_minor": 4
}
